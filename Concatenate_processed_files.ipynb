{
  "nbformat": 4,
  "nbformat_minor": 0,
  "metadata": {
    "colab": {
      "provenance": [],
      "authorship_tag": "ABX9TyMA02HeqZYMUwNnIUADcdXy",
      "include_colab_link": true
    },
    "kernelspec": {
      "name": "python3",
      "display_name": "Python 3"
    },
    "language_info": {
      "name": "python"
    }
  },
  "cells": [
    {
      "cell_type": "markdown",
      "metadata": {
        "id": "view-in-github",
        "colab_type": "text"
      },
      "source": [
        "<a href=\"https://colab.research.google.com/github/grfaith/AmericanStories/blob/main/Concatenate_processed_files.ipynb\" target=\"_parent\"><img src=\"https://colab.research.google.com/assets/colab-badge.svg\" alt=\"Open In Colab\"/></a>"
      ]
    },
    {
      "cell_type": "code",
      "execution_count": 1,
      "metadata": {
        "colab": {
          "base_uri": "https://localhost:8080/"
        },
        "id": "Vrh0JnTbvEu6",
        "outputId": "56e30c84-7d58-4797-f0d5-9fce30600711"
      },
      "outputs": [
        {
          "output_type": "stream",
          "name": "stdout",
          "text": [
            "Mounted at /content/drive\n"
          ]
        }
      ],
      "source": [
        "from google.colab import drive\n",
        "drive.mount('/content/drive')\n"
      ]
    },
    {
      "cell_type": "code",
      "source": [
        "import os\n",
        "import pandas as pd\n",
        "\n",
        "# Specify the path to the output directory\n",
        "output_dir = '/content/drive/My Drive/output'\n",
        "\n",
        "# Get a list of all files in the directory matching the format output_chunk_N\n",
        "files = [f for f in os.listdir(output_dir) if f.startswith('output_chunk_') and f.endswith('.csv')]\n",
        "\n",
        "# Sort files based on the number N in output_chunk_N\n",
        "files.sort(key=lambda f: int(f.split('_')[-1].split('.')[0]))\n",
        "\n",
        "# Initialize an empty list to hold the dataframes\n",
        "dfs = []\n",
        "\n",
        "# Iterate over the files and read them into dataframes\n",
        "for i, file in enumerate(files):\n",
        "    file_path = os.path.join(output_dir, file)\n",
        "\n",
        "    # Read the first file with headers\n",
        "    if i == 0:\n",
        "        df = pd.read_csv(file_path, low_memory=False)  # Use the column names from the first file\n",
        "    else:\n",
        "        # Read subsequent files without headers\n",
        "        df = pd.read_csv(file_path, header=None, low_memory=False)\n",
        "        df.columns = dfs[0].columns  # Ensure the columns match\n",
        "\n",
        "    dfs.append(df)\n",
        "\n",
        "# Concatenate all the dataframes\n",
        "concatenated_df = pd.concat(dfs, ignore_index=True)\n",
        "\n",
        "# Display the result (or you can save it to a file)\n",
        "print(concatenated_df)\n"
      ],
      "metadata": {
        "colab": {
          "base_uri": "https://localhost:8080/"
        },
        "id": "tmSMo9tkvepj",
        "outputId": "73525317-46e5-4506-b21d-26a1df001ea5"
      },
      "execution_count": 5,
      "outputs": [
        {
          "output_type": "stream",
          "name": "stdout",
          "text": [
            "                                               article_ID row_number aether  \\\n",
            "0       6_1799-01-28_p4_sn83045634_00332895059_1799012...        107      0   \n",
            "1       8_1799-04-15_p4_sn83045634_00332895059_1799041...        316      0   \n",
            "2       5_1802-05-31_p1_sn83016063_00332895060_1802053...        152      0   \n",
            "3       13_1802-07-12_p4_sn83016063_00332895060_180207...        148      0   \n",
            "4       21_1803-05-30_p4_sn83016072_00332895060_180305...        384      0   \n",
            "...                                                   ...        ...    ...   \n",
            "509333  16_1939-06-22_p12_sn83045462_00280602449_19390...     275119      0   \n",
            "509334  16_1939-06-23_p10_sn83045462_00280602449_19390...     271256      0   \n",
            "509335  16_1939-06-23_p8_sn83045462_00280602449_193906...     481355      0   \n",
            "509336  16_1939-04-28_p52_sn83045462_00280602401_19390...     428643      0   \n",
            "509337  9_1939-12-24_p37_sn83045462_00280602140_193912...     319528      0   \n",
            "\n",
            "       asteroid aurora borealis celestial comet copernicus cosmic  ...  \\\n",
            "0             0      0        0         0     0          0      0  ...   \n",
            "1             0      0        0         0     0          0      0  ...   \n",
            "2             0      3        0         0     0          0      0  ...   \n",
            "3             0      0        0         0     0          0      0  ...   \n",
            "4             0      0        0         0     0          0      0  ...   \n",
            "...         ...    ...      ...       ...   ...        ...    ...  ...   \n",
            "509333        0      0        0         0     0          0      0  ...   \n",
            "509334        0      0        0         0     0          0      0  ...   \n",
            "509335        0      0        0         0     0          0      0  ...   \n",
            "509336        0      0        0         0     0          0      0  ...   \n",
            "509337        0      0        0         0     0          0      0  ...   \n",
            "\n",
            "       universe uranus venus venus transit total_keyword_count    pub_date  \\\n",
            "0             0      0     0             0                   4  1799-01-28   \n",
            "1             0      0     0             0                   2  1799-04-15   \n",
            "2             0      0     0             0                   3  1802-05-31   \n",
            "3             0      0     0             0                   2  1802-07-12   \n",
            "4             0      0     0             0                   2  1803-05-30   \n",
            "...         ...    ...   ...           ...                 ...         ...   \n",
            "509333        0      0     0             0                   2  1939-06-22   \n",
            "509334        0      0     0             0                   2  1939-06-23   \n",
            "509335        0      0     0             0                   2  1939-06-23   \n",
            "509336        0      0     0             0                   7  1939-04-28   \n",
            "509337        1      0     0             0                   3  1939-12-24   \n",
            "\n",
            "       pub_year                                       article_text  \\\n",
            "0          1799  \\n\\n\\nTHE fcv,n Gags OF lft, from the frG dawn...   \n",
            "1          1799  Thirteen AllegOrleS.\\n\\n\\n7. HUMAN thoughts ar...   \n",
            "2          1802  lhe Min'HerahUs now aPoJogIze for the\\nglariag...   \n",
            "3          1802  1eNTAINING all the Tables neceAary to be uied\\...   \n",
            "4          1803  Of lhe bea qualify which will be % on\\nrez!ona...   \n",
            "...         ...                                                ...   \n",
            "509333     1939  To the Editor Of The Star:\\n\\n\\nThe NazlS are ...   \n",
            "509334     1939  To the Editor of The STAR\\n\\n\\nwish to take is...   \n",
            "509335     1939  Toddy'S Soap Bor Derby Parade\\n\\n\\nwill be bro...   \n",
            "509336     1939  MAN young, willing worker. with chain or\\nserv...   \n",
            "509337     1939  credits ST. Winfred with recogni-\\ntion of the...   \n",
            "\n",
            "                            bbox  \\\n",
            "0       [1365, 3697, 2554, 8227]   \n",
            "1       [1432, 1649, 2632, 7845]   \n",
            "2       [3973, 1882, 5268, 9174]   \n",
            "3        [286, 6477, 1581, 8294]   \n",
            "4        [1287, 720, 2358, 5755]   \n",
            "...                          ...   \n",
            "509333  [3125, 3570, 3859, 7511]   \n",
            "509334   [2388, 640, 3120, 7521]   \n",
            "509335     [161, 296, 810, 4971]   \n",
            "509336   [1433, 175, 3885, 3027]   \n",
            "509337   [834, 2173, 1484, 4608]   \n",
            "\n",
            "                                             article_link  \n",
            "0       https://www.loc.gov/resource/sn83045634/1799-0...  \n",
            "1       https://www.loc.gov/resource/sn83045634/1799-0...  \n",
            "2       https://www.loc.gov/resource/sn83016063/1802-0...  \n",
            "3       https://www.loc.gov/resource/sn83016063/1802-0...  \n",
            "4       https://www.loc.gov/resource/sn83016072/1803-0...  \n",
            "...                                                   ...  \n",
            "509333  https://www.loc.gov/resource/sn83045462/1939-0...  \n",
            "509334  https://www.loc.gov/resource/sn83045462/1939-0...  \n",
            "509335  https://www.loc.gov/resource/sn83045462/1939-0...  \n",
            "509336  https://www.loc.gov/resource/sn83045462/1939-0...  \n",
            "509337  https://www.loc.gov/resource/sn83045462/1939-1...  \n",
            "\n",
            "[509338 rows x 70 columns]\n"
          ]
        }
      ]
    },
    {
      "cell_type": "code",
      "source": [
        "concatenated_df.to_csv('/content/drive/My Drive/output/preprocessed_data.csv', index=False)\n"
      ],
      "metadata": {
        "id": "bQGh4FWAwE2f"
      },
      "execution_count": 4,
      "outputs": []
    }
  ]
}